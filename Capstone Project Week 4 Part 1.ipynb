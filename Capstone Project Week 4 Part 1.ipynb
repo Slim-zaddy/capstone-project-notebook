{
 "cells": [
  {
   "cell_type": "markdown",
   "metadata": {},
   "source": [
    "## The Battle of the Neighborhoods - Part 1"
   ]
  },
  {
   "cell_type": "markdown",
   "metadata": {},
   "source": [
    "### Introduction & Analysis of this Project:"
   ]
  },
  {
   "cell_type": "markdown",
   "metadata": {},
   "source": [
    "I have lived in Seoul, Toronto, LA and currently living in Austin. Since I have lived in so many different cities, people often ask \"which city is best for the living\"?. This is a Good question I am trying to answer below."
   ]
  },
  {
   "cell_type": "markdown",
   "metadata": {},
   "source": [
    "#### Comparions between Cities(Los Angeles,Austin,Toronto,Seoul)"
   ]
  },
  {
   "cell_type": "markdown",
   "metadata": {},
   "source": [
    "These are all good size cities and depending on the neighbourhood, it could quite different .. So, I will focus on neighbours where I have lived Los Angenes - San Pedro Austin - Avery Ranch area North of city Toronto - Scarbourgh Seoul - Gangnam , Yes, I am from Gangnam !! -- Rerember ? - Gangname Style ? - Lol I will compare with data from foursqure and comparing attractive venues and other possible factors provided by foursquare."
   ]
  },
  {
   "cell_type": "markdown",
   "metadata": {},
   "source": [
    "#### Which City is best for living - possible factors I can think of:"
   ]
  },
  {
   "cell_type": "markdown",
   "metadata": {},
   "source": [
    "* Population\n",
    "* Demographics\n",
    "* Shopping Centers\n",
    "* Restaurants with differt nationalities - Korean/Japanese,Italian,Indian,Chineses,American...\n",
    "* Parks & Recreations - Soccer field,tennis courts ..\n",
    "* Traffic\n",
    "* Polution/Air quality\n",
    "* Professional sports teams(NFL,NBA,MLS,MLB...)\n",
    "* Crime rates/squre Km\n",
    "* Average temperature for whole year\n",
    "* Average life expectacy."
   ]
  },
  {
   "cell_type": "markdown",
   "metadata": {},
   "source": [
    "Unfortunately, I don't expect to get all these possible factors from Foursquare.. -- may need to premium or more website needed -- will skip those :) Also, we can prioritize these factors with givine the different weigh"
   ]
  },
  {
   "cell_type": "markdown",
   "metadata": {},
   "source": [
    "* Example\n",
    "* Parks & Recreations - 3 points\n",
    "* Traffic - 2 points\n",
    "* Average life expectacy - 1 points"
   ]
  },
  {
   "cell_type": "markdown",
   "metadata": {},
   "source": [
    "#### Different Viewpoints and missing Informations:"
   ]
  },
  {
   "cell_type": "markdown",
   "metadata": {},
   "source": [
    "In general, everyone has differnt point of view about living. Some people , like me , playing soccer and watching soccer is my favorite hobby and lifestyle while others have different priorities in their life So, this original question - which City/neighbour is best for living could became very objective , meaning different for different for individuals.\n",
    "\n",
    "In a short words, It is completely up the personal. Meaning not exactly be the location or neighbourhood."
   ]
  },
  {
   "cell_type": "markdown",
   "metadata": {},
   "source": [
    "#### Final Outcome : Generalizations and Clustering"
   ]
  },
  {
   "cell_type": "markdown",
   "metadata": {},
   "source": [
    "At the end, it could possbily be category/clustering for differnt people as groups like Young people tend to like living in a big city like LA,Seoul and Toronto, while older people like to live in small city like Austin Also from different priorities could effect for individuals or group of people\n",
    "\n",
    "Anyways, I will choose my definition of best place to live based on my findings and unknowns.\n",
    "\n",
    "I think, Scope of this projects is beyond this course , I am planning to go on after this course .. Very interesting !!"
   ]
  },
  {
   "cell_type": "code",
   "execution_count": null,
   "metadata": {},
   "outputs": [],
   "source": []
  }
 ],
 "metadata": {
  "kernelspec": {
   "display_name": "Python 3",
   "language": "python",
   "name": "python3"
  },
  "language_info": {
   "codemirror_mode": {
    "name": "ipython",
    "version": 3
   },
   "file_extension": ".py",
   "mimetype": "text/x-python",
   "name": "python",
   "nbconvert_exporter": "python",
   "pygments_lexer": "ipython3",
   "version": "3.7.3"
  }
 },
 "nbformat": 4,
 "nbformat_minor": 2
}
